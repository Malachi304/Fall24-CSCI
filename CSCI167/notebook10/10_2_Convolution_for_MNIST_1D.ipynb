{
 "cells": [
  {
   "cell_type": "markdown",
   "metadata": {
    "colab_type": "text",
    "id": "view-in-github"
   },
   "source": [
    "<a href=\"https://colab.research.google.com/github/udlbook/udlbook/blob/main/Notebooks/Chap10/10_2_Convolution_for_MNIST_1D.ipynb\" target=\"_parent\"><img src=\"https://colab.research.google.com/assets/colab-badge.svg\" alt=\"Open In Colab\"/></a>"
   ]
  },
  {
   "cell_type": "markdown",
   "metadata": {
    "id": "t9vk9Elugvmi"
   },
   "source": [
    "# **Notebook 10.2: Convolution for MNIST-1D**\n",
    "\n",
    "This notebook investigates a 1D convolutional network for MNIST-1D as in figure 10.7 and 10.8a.\n",
    "\n",
    "Work through the cells below, running each cell in turn. In various places you will see the words \"TO DO\". Follow the instructions at these places and make predictions about what is going to happen or write code to complete the functions.\n",
    "\n",
    "Contact me at udlbookmail@gmail.com if you find any mistakes or have any suggestions.\n",
    "\n"
   ]
  },
  {
   "cell_type": "code",
   "execution_count": 4,
   "metadata": {
    "id": "D5yLObtZCi9J"
   },
   "outputs": [
    {
     "name": "stdout",
     "output_type": "stream",
     "text": [
      "Collecting git+https://github.com/greydanus/mnist1d\n",
      "  Cloning https://github.com/greydanus/mnist1d to c:\\users\\mpeel\\appdata\\local\\temp\\pip-req-build-ogdaxue9\n",
      "  Resolved https://github.com/greydanus/mnist1d to commit 7878d96082abd200c546a07a4101fa90b30fdf7e\n",
      "  Installing build dependencies: started\n",
      "  Installing build dependencies: finished with status 'done'\n",
      "  Getting requirements to build wheel: started\n",
      "  Getting requirements to build wheel: finished with status 'done'\n",
      "  Preparing metadata (pyproject.toml): started\n",
      "  Preparing metadata (pyproject.toml): finished with status 'done'\n",
      "Requirement already satisfied: requests in c:\\python312\\lib\\site-packages (from mnist1d==0.0.2.post16) (2.31.0)\n",
      "Requirement already satisfied: numpy in c:\\python312\\lib\\site-packages (from mnist1d==0.0.2.post16) (1.26.3)\n",
      "Requirement already satisfied: matplotlib in c:\\users\\mpeel\\appdata\\roaming\\python\\python312\\site-packages (from mnist1d==0.0.2.post16) (3.8.2)\n",
      "Requirement already satisfied: scipy in c:\\users\\mpeel\\appdata\\roaming\\python\\python312\\site-packages (from mnist1d==0.0.2.post16) (1.13.0)\n",
      "Requirement already satisfied: contourpy>=1.0.1 in c:\\users\\mpeel\\appdata\\roaming\\python\\python312\\site-packages (from matplotlib->mnist1d==0.0.2.post16) (1.2.0)\n",
      "Requirement already satisfied: cycler>=0.10 in c:\\users\\mpeel\\appdata\\roaming\\python\\python312\\site-packages (from matplotlib->mnist1d==0.0.2.post16) (0.12.1)\n",
      "Requirement already satisfied: fonttools>=4.22.0 in c:\\python312\\lib\\site-packages (from matplotlib->mnist1d==0.0.2.post16) (4.47.2)\n",
      "Requirement already satisfied: kiwisolver>=1.3.1 in c:\\python312\\lib\\site-packages (from matplotlib->mnist1d==0.0.2.post16) (1.4.5)\n",
      "Requirement already satisfied: packaging>=20.0 in c:\\python312\\lib\\site-packages (from matplotlib->mnist1d==0.0.2.post16) (23.2)\n",
      "Requirement already satisfied: pillow>=8 in c:\\python312\\lib\\site-packages (from matplotlib->mnist1d==0.0.2.post16) (10.2.0)\n",
      "Requirement already satisfied: pyparsing>=2.3.1 in c:\\python312\\lib\\site-packages (from matplotlib->mnist1d==0.0.2.post16) (3.1.1)\n",
      "Requirement already satisfied: python-dateutil>=2.7 in c:\\users\\mpeel\\appdata\\roaming\\python\\python312\\site-packages (from matplotlib->mnist1d==0.0.2.post16) (2.8.2)\n",
      "Requirement already satisfied: charset-normalizer<4,>=2 in c:\\python312\\lib\\site-packages (from requests->mnist1d==0.0.2.post16) (3.3.2)\n",
      "Requirement already satisfied: idna<4,>=2.5 in c:\\python312\\lib\\site-packages (from requests->mnist1d==0.0.2.post16) (3.6)\n",
      "Requirement already satisfied: urllib3<3,>=1.21.1 in c:\\python312\\lib\\site-packages (from requests->mnist1d==0.0.2.post16) (2.2.0)\n",
      "Requirement already satisfied: certifi>=2017.4.17 in c:\\python312\\lib\\site-packages (from requests->mnist1d==0.0.2.post16) (2024.2.2)\n",
      "Requirement already satisfied: six>=1.5 in c:\\python312\\lib\\site-packages (from python-dateutil>=2.7->matplotlib->mnist1d==0.0.2.post16) (1.16.0)\n",
      "Note: you may need to restart the kernel to use updated packages.\n"
     ]
    },
    {
     "name": "stderr",
     "output_type": "stream",
     "text": [
      "WARNING: Ignoring invalid distribution ~ (c:\\Python312\\Lib\\site-packages)\n",
      "WARNING: Ignoring invalid distribution ~-p (c:\\Python312\\Lib\\site-packages)\n",
      "WARNING: Ignoring invalid distribution ~ip (c:\\Python312\\Lib\\site-packages)\n",
      "WARNING: Ignoring invalid distribution ~~p (c:\\Python312\\Lib\\site-packages)\n",
      "  Running command git clone --filter=blob:none --quiet https://github.com/greydanus/mnist1d 'C:\\Users\\mpeel\\AppData\\Local\\Temp\\pip-req-build-ogdaxue9'\n",
      "WARNING: Ignoring invalid distribution ~ (c:\\Python312\\Lib\\site-packages)\n",
      "WARNING: Ignoring invalid distribution ~-p (c:\\Python312\\Lib\\site-packages)\n",
      "WARNING: Ignoring invalid distribution ~ip (c:\\Python312\\Lib\\site-packages)\n",
      "WARNING: Ignoring invalid distribution ~~p (c:\\Python312\\Lib\\site-packages)\n",
      "WARNING: Ignoring invalid distribution ~ (c:\\Python312\\Lib\\site-packages)\n",
      "WARNING: Ignoring invalid distribution ~-p (c:\\Python312\\Lib\\site-packages)\n",
      "WARNING: Ignoring invalid distribution ~ip (c:\\Python312\\Lib\\site-packages)\n",
      "WARNING: Ignoring invalid distribution ~~p (c:\\Python312\\Lib\\site-packages)\n"
     ]
    }
   ],
   "source": [
    "# Run this if you're in a Colab to install MNIST 1D repository\n",
    "%pip install git+https://github.com/greydanus/mnist1d"
   ]
  },
  {
   "cell_type": "code",
   "execution_count": 5,
   "metadata": {
    "id": "YrXWAH7sUWvU"
   },
   "outputs": [],
   "source": [
    "import numpy as np\n",
    "import os\n",
    "import torch, torch.nn as nn\n",
    "from torch.utils.data import TensorDataset, DataLoader\n",
    "from torch.optim.lr_scheduler import StepLR\n",
    "import matplotlib.pyplot as plt\n",
    "import mnist1d\n",
    "import random"
   ]
  },
  {
   "cell_type": "code",
   "execution_count": 6,
   "metadata": {
    "id": "twI72ZCrCt5z"
   },
   "outputs": [
    {
     "name": "stdout",
     "output_type": "stream",
     "text": [
      "Successfully loaded data from ./mnist1d_data.pkl\n",
      "Examples in training set: 4000\n",
      "Examples in test set: 1000\n",
      "Length of each example: 40\n"
     ]
    }
   ],
   "source": [
    "args = mnist1d.data.get_dataset_args()\n",
    "data = mnist1d.data.get_dataset(args, path='./mnist1d_data.pkl', download=False, regenerate=False)\n",
    "\n",
    "# The training and test input and outputs are in\n",
    "# data['x'], data['y'], data['x_test'], and data['y_test']\n",
    "print(\"Examples in training set: {}\".format(len(data['y'])))\n",
    "print(\"Examples in test set: {}\".format(len(data['y_test'])))\n",
    "print(\"Length of each example: {}\".format(data['x'].shape[-1]))"
   ]
  },
  {
   "cell_type": "code",
   "execution_count": 7,
   "metadata": {
    "id": "8bKADvLHbiV5"
   },
   "outputs": [
    {
     "name": "stdout",
     "output_type": "stream",
     "text": [
      "Train data: 4000 examples (columns), each of which has 40 dimensions (rows)\n",
      "Validation data: 1000 examples (columns), each of which has 40 dimensions (rows)\n"
     ]
    }
   ],
   "source": [
    "# Load in the data\n",
    "train_data_x = data['x'].transpose()\n",
    "train_data_y = data['y']\n",
    "val_data_x = data['x_test'].transpose()\n",
    "val_data_y = data['y_test']\n",
    "# Print out sizes\n",
    "print(\"Train data: %d examples (columns), each of which has %d dimensions (rows)\"%((train_data_x.shape[1],train_data_x.shape[0])))\n",
    "print(\"Validation data: %d examples (columns), each of which has %d dimensions (rows)\"%((val_data_x.shape[1],val_data_x.shape[0])))"
   ]
  },
  {
   "cell_type": "markdown",
   "metadata": {
    "id": "_sFvRDGrl4qe"
   },
   "source": [
    "Define the network"
   ]
  },
  {
   "cell_type": "code",
   "execution_count": 8,
   "metadata": {
    "id": "FslroPJJffrh"
   },
   "outputs": [],
   "source": [
    "# There are 40 input dimensions and 10 output dimensions for this data\n",
    "# The inputs correspond to the 40 offsets in the MNIST1D template.\n",
    "D_i = 40\n",
    "# The outputs correspond to the 10 digits\n",
    "D_o = 10\n",
    "\n",
    "\n",
    "# TODO Create a model with the following layers\n",
    "# 1. Convolutional layer, (input=length 40 and 1 channel, kernel size 3, stride 2, padding=\"valid\", 15 output channels )\n",
    "torch.nn.Conv1d(in_channels=1, out_channels=15, kernel_size=3, stride=2, padding='valid')\n",
    "# 2. ReLU\n",
    "torch.nn.ReLU()\n",
    "# 3. Convolutional layer, (input=length 19 and 15 channels, kernel size 3, stride 2, padding=\"valid\", 15 output channels )\n",
    "torch.nn.Conv1d(in_channels=15, out_channels=15, kernel_size=3, stride=2, padding='valid')\n",
    "# 4. ReLU\n",
    "torch.nn.ReLU()\n",
    "# 5. Convolutional layer, (input=length 9 and 15 channels, kernel size 3, stride 2, padding=\"valid\", 15 output channels)\n",
    "torch.nn.Conv1d(in_channels=15, out_channels=15, kernel_size=3, stride=2, padding='valid')\n",
    "# 6. ReLU\n",
    "torch.nn.ReLU()\n",
    "# 7. Flatten (converts 4x15) to length 60\n",
    "torch.nn.Flatten()\n",
    "# 8. Linear layer (input size = 60, output size = 10)\n",
    "torch.nn.Linear(60, 10)\n",
    "# References:\n",
    "# https://pytorch.org/docs/1.13/generated/torch.nn.Conv1d.html?highlight=conv1d#torch.nn.Conv1d\n",
    "# https://pytorch.org/docs/stable/generated/torch.nn.Flatten.html\n",
    "# https://pytorch.org/docs/1.13/generated/torch.nn.Linear.html?highlight=linear#torch.nn.Linear\n",
    "\n",
    "# NOTE THAT THE CONVOLUTIONAL LAYERS NEED TO TAKE THE NUMBER OF INPUT CHANNELS AS A PARAMETER\n",
    "# AND NOT THE INPUT SIZE.\n",
    "\n",
    "# Replace the following function:\n",
    "model = nn.Sequential(\n",
    "torch.nn.Conv1d(in_channels=1, out_channels=15, kernel_size=3, stride=2, padding='valid'),\n",
    "torch.nn.ReLU(),\n",
    "torch.nn.Conv1d(in_channels=15, out_channels=15, kernel_size=3, stride=2, padding='valid'),\n",
    "torch.nn.ReLU(),\n",
    "torch.nn.Conv1d(in_channels=15, out_channels=15, kernel_size=3, stride=2, padding='valid'),\n",
    "torch.nn.ReLU(),\n",
    "torch.nn.Flatten(),\n",
    "torch.nn.Linear(60, 10))\n",
    "\n",
    "\n"
   ]
  },
  {
   "cell_type": "code",
   "execution_count": 9,
   "metadata": {
    "id": "YgLaex1pfhqz"
   },
   "outputs": [],
   "source": [
    "# He initialization of weights\n",
    "def weights_init(layer_in):\n",
    "  if isinstance(layer_in, nn.Linear):\n",
    "    nn.init.kaiming_uniform_(layer_in.weight)\n",
    "    layer_in.bias.data.fill_(0.0)"
   ]
  },
  {
   "cell_type": "code",
   "execution_count": 10,
   "metadata": {
    "id": "NYw8I_3mmX5c"
   },
   "outputs": [
    {
     "name": "stdout",
     "output_type": "stream",
     "text": [
      "Epoch     0, train loss 2.092665, train error 76.07,  val loss 2.088073, percent error 78.10\n",
      "Epoch     1, train loss 1.601636, train error 64.78,  val loss 1.594668, percent error 67.10\n",
      "Epoch     2, train loss 1.393262, train error 57.47,  val loss 1.398149, percent error 60.30\n",
      "Epoch     3, train loss 1.284318, train error 52.45,  val loss 1.290202, percent error 54.50\n",
      "Epoch     4, train loss 1.211514, train error 47.03,  val loss 1.215850, percent error 48.20\n",
      "Epoch     5, train loss 1.060488, train error 42.58,  val loss 1.092622, percent error 45.90\n",
      "Epoch     6, train loss 0.914411, train error 35.18,  val loss 0.960174, percent error 35.80\n",
      "Epoch     7, train loss 0.820966, train error 32.20,  val loss 0.882697, percent error 35.30\n",
      "Epoch     8, train loss 0.720478, train error 28.00,  val loss 0.783415, percent error 31.30\n",
      "Epoch     9, train loss 0.661380, train error 25.07,  val loss 0.726339, percent error 29.30\n",
      "Epoch    10, train loss 0.622220, train error 24.32,  val loss 0.708291, percent error 26.70\n",
      "Epoch    11, train loss 0.724864, train error 29.00,  val loss 0.807914, percent error 31.00\n",
      "Epoch    12, train loss 0.526299, train error 20.93,  val loss 0.618898, percent error 24.30\n",
      "Epoch    13, train loss 0.408210, train error 14.40,  val loss 0.515858, percent error 18.70\n",
      "Epoch    14, train loss 0.345007, train error 12.38,  val loss 0.474267, percent error 16.50\n",
      "Epoch    15, train loss 0.335874, train error 12.85,  val loss 0.469033, percent error 17.00\n",
      "Epoch    16, train loss 0.332982, train error 11.95,  val loss 0.489796, percent error 17.60\n",
      "Epoch    17, train loss 0.256902, train error 9.57,  val loss 0.398047, percent error 13.80\n",
      "Epoch    18, train loss 0.275960, train error 9.80,  val loss 0.408405, percent error 15.00\n",
      "Epoch    19, train loss 0.268373, train error 9.88,  val loss 0.434637, percent error 13.70\n",
      "Epoch    20, train loss 0.186860, train error 6.40,  val loss 0.358294, percent error 11.50\n",
      "Epoch    21, train loss 0.201374, train error 7.12,  val loss 0.389481, percent error 12.40\n",
      "Epoch    22, train loss 0.177653, train error 5.93,  val loss 0.368807, percent error 11.20\n",
      "Epoch    23, train loss 0.163821, train error 5.60,  val loss 0.370156, percent error 12.10\n",
      "Epoch    24, train loss 0.148793, train error 5.18,  val loss 0.342222, percent error 11.60\n",
      "Epoch    25, train loss 0.138406, train error 4.43,  val loss 0.336367, percent error 10.70\n",
      "Epoch    26, train loss 0.133948, train error 4.70,  val loss 0.349923, percent error 11.10\n",
      "Epoch    27, train loss 0.133021, train error 4.47,  val loss 0.320834, percent error 9.70\n",
      "Epoch    28, train loss 0.128447, train error 4.05,  val loss 0.341142, percent error 11.30\n",
      "Epoch    29, train loss 0.120820, train error 4.18,  val loss 0.325866, percent error 10.60\n",
      "Epoch    30, train loss 0.154227, train error 5.30,  val loss 0.375411, percent error 11.70\n",
      "Epoch    31, train loss 0.110671, train error 3.82,  val loss 0.316763, percent error 9.90\n",
      "Epoch    32, train loss 0.099279, train error 3.15,  val loss 0.337352, percent error 10.60\n",
      "Epoch    33, train loss 0.105710, train error 3.50,  val loss 0.339227, percent error 10.80\n",
      "Epoch    34, train loss 0.100210, train error 3.28,  val loss 0.334112, percent error 10.40\n",
      "Epoch    35, train loss 0.095427, train error 3.03,  val loss 0.327189, percent error 10.90\n",
      "Epoch    36, train loss 0.092500, train error 3.05,  val loss 0.318362, percent error 10.30\n",
      "Epoch    37, train loss 0.098908, train error 3.20,  val loss 0.332933, percent error 10.40\n",
      "Epoch    38, train loss 0.083993, train error 2.35,  val loss 0.299508, percent error 9.60\n",
      "Epoch    39, train loss 0.096696, train error 3.10,  val loss 0.359833, percent error 11.10\n",
      "Epoch    40, train loss 0.070757, train error 2.22,  val loss 0.316129, percent error 9.80\n",
      "Epoch    41, train loss 0.068735, train error 2.28,  val loss 0.335022, percent error 9.80\n",
      "Epoch    42, train loss 0.062939, train error 1.75,  val loss 0.319629, percent error 10.10\n",
      "Epoch    43, train loss 0.061704, train error 1.55,  val loss 0.322763, percent error 9.90\n",
      "Epoch    44, train loss 0.062309, train error 1.55,  val loss 0.328933, percent error 9.80\n",
      "Epoch    45, train loss 0.057850, train error 1.62,  val loss 0.327655, percent error 10.20\n",
      "Epoch    46, train loss 0.057683, train error 1.62,  val loss 0.318554, percent error 9.70\n",
      "Epoch    47, train loss 0.054304, train error 1.22,  val loss 0.322846, percent error 9.70\n",
      "Epoch    48, train loss 0.055257, train error 1.53,  val loss 0.326996, percent error 10.00\n",
      "Epoch    49, train loss 0.051045, train error 1.15,  val loss 0.331452, percent error 9.90\n",
      "Epoch    50, train loss 0.058027, train error 1.47,  val loss 0.330521, percent error 9.50\n",
      "Epoch    51, train loss 0.051415, train error 1.15,  val loss 0.336263, percent error 9.80\n",
      "Epoch    52, train loss 0.053086, train error 1.25,  val loss 0.335003, percent error 9.50\n",
      "Epoch    53, train loss 0.051934, train error 1.32,  val loss 0.334972, percent error 9.40\n",
      "Epoch    54, train loss 0.049899, train error 1.10,  val loss 0.339105, percent error 9.10\n",
      "Epoch    55, train loss 0.047982, train error 1.03,  val loss 0.335690, percent error 9.60\n",
      "Epoch    56, train loss 0.046757, train error 1.03,  val loss 0.335994, percent error 9.60\n",
      "Epoch    57, train loss 0.044924, train error 1.03,  val loss 0.341311, percent error 9.10\n",
      "Epoch    58, train loss 0.043226, train error 0.85,  val loss 0.347527, percent error 9.40\n",
      "Epoch    59, train loss 0.043138, train error 0.88,  val loss 0.337310, percent error 9.20\n",
      "Epoch    60, train loss 0.041274, train error 0.88,  val loss 0.348099, percent error 9.10\n",
      "Epoch    61, train loss 0.039689, train error 0.80,  val loss 0.340971, percent error 9.10\n",
      "Epoch    62, train loss 0.043399, train error 0.95,  val loss 0.340520, percent error 8.60\n",
      "Epoch    63, train loss 0.043573, train error 1.00,  val loss 0.359833, percent error 9.80\n",
      "Epoch    64, train loss 0.038495, train error 0.72,  val loss 0.343295, percent error 9.50\n",
      "Epoch    65, train loss 0.037955, train error 0.75,  val loss 0.347805, percent error 9.10\n",
      "Epoch    66, train loss 0.038072, train error 0.65,  val loss 0.340833, percent error 9.10\n",
      "Epoch    67, train loss 0.037219, train error 0.78,  val loss 0.352389, percent error 9.20\n",
      "Epoch    68, train loss 0.036602, train error 0.65,  val loss 0.343224, percent error 9.10\n",
      "Epoch    69, train loss 0.037873, train error 0.88,  val loss 0.357825, percent error 9.30\n",
      "Epoch    70, train loss 0.037320, train error 0.65,  val loss 0.348639, percent error 9.30\n",
      "Epoch    71, train loss 0.035864, train error 0.72,  val loss 0.357155, percent error 9.50\n",
      "Epoch    72, train loss 0.035514, train error 0.57,  val loss 0.351547, percent error 8.90\n",
      "Epoch    73, train loss 0.036391, train error 0.60,  val loss 0.350477, percent error 9.60\n",
      "Epoch    74, train loss 0.035745, train error 0.72,  val loss 0.359334, percent error 9.50\n",
      "Epoch    75, train loss 0.034532, train error 0.68,  val loss 0.351930, percent error 8.70\n",
      "Epoch    76, train loss 0.033641, train error 0.65,  val loss 0.355414, percent error 9.20\n",
      "Epoch    77, train loss 0.034420, train error 0.62,  val loss 0.355603, percent error 9.10\n",
      "Epoch    78, train loss 0.034124, train error 0.60,  val loss 0.357921, percent error 9.00\n",
      "Epoch    79, train loss 0.033184, train error 0.50,  val loss 0.352777, percent error 9.10\n",
      "Epoch    80, train loss 0.032201, train error 0.60,  val loss 0.353994, percent error 9.00\n",
      "Epoch    81, train loss 0.031987, train error 0.55,  val loss 0.355897, percent error 9.00\n",
      "Epoch    82, train loss 0.031826, train error 0.53,  val loss 0.357294, percent error 9.10\n",
      "Epoch    83, train loss 0.031798, train error 0.53,  val loss 0.357448, percent error 9.10\n",
      "Epoch    84, train loss 0.031648, train error 0.55,  val loss 0.356383, percent error 9.20\n",
      "Epoch    85, train loss 0.031618, train error 0.53,  val loss 0.357129, percent error 9.00\n",
      "Epoch    86, train loss 0.031209, train error 0.55,  val loss 0.358634, percent error 9.20\n",
      "Epoch    87, train loss 0.031049, train error 0.55,  val loss 0.359322, percent error 9.00\n",
      "Epoch    88, train loss 0.030978, train error 0.57,  val loss 0.360375, percent error 9.20\n",
      "Epoch    89, train loss 0.030743, train error 0.57,  val loss 0.360801, percent error 8.90\n",
      "Epoch    90, train loss 0.030829, train error 0.55,  val loss 0.357276, percent error 9.20\n",
      "Epoch    91, train loss 0.030432, train error 0.50,  val loss 0.359781, percent error 9.20\n",
      "Epoch    92, train loss 0.030555, train error 0.50,  val loss 0.360115, percent error 9.20\n",
      "Epoch    93, train loss 0.030256, train error 0.55,  val loss 0.360124, percent error 9.20\n",
      "Epoch    94, train loss 0.030053, train error 0.53,  val loss 0.361433, percent error 9.20\n",
      "Epoch    95, train loss 0.029987, train error 0.53,  val loss 0.363872, percent error 9.10\n",
      "Epoch    96, train loss 0.029741, train error 0.53,  val loss 0.361515, percent error 9.10\n",
      "Epoch    97, train loss 0.029668, train error 0.50,  val loss 0.363748, percent error 9.30\n",
      "Epoch    98, train loss 0.029625, train error 0.50,  val loss 0.363052, percent error 8.90\n",
      "Epoch    99, train loss 0.029265, train error 0.47,  val loss 0.362472, percent error 9.30\n"
     ]
    },
    {
     "data": {
      "image/png": "[encoded data removed]",
      "text/plain": [
       "<Figure size 640x480 with 1 Axes>"
      ]
     },
     "metadata": {},
     "output_type": "display_data"
    }
   ],
   "source": [
    "# choose cross entropy loss function (equation 5.24 in the loss notes)\n",
    "loss_function = nn.CrossEntropyLoss()\n",
    "# construct SGD optimizer and initialize learning rate and momentum\n",
    "optimizer = torch.optim.SGD(model.parameters(), lr = 0.05, momentum=0.9)\n",
    "# object that decreases learning rate by half every 20 epochs\n",
    "scheduler = StepLR(optimizer, step_size=20, gamma=0.5)\n",
    "# create 100 dummy data points and store in data loader class\n",
    "x_train = torch.tensor(train_data_x.transpose().astype('float32'))\n",
    "y_train = torch.tensor(train_data_y.astype('long')).long()\n",
    "x_val= torch.tensor(val_data_x.transpose().astype('float32'))\n",
    "y_val = torch.tensor(val_data_y.astype('long')).long()\n",
    "\n",
    "# load the data into a class that creates the batches\n",
    "data_loader = DataLoader(TensorDataset(x_train,y_train), batch_size=100, shuffle=True, worker_init_fn=np.random.seed(1))\n",
    "\n",
    "# Initialize model weights\n",
    "model.apply(weights_init)\n",
    "\n",
    "# loop over the dataset n_epoch times\n",
    "n_epoch = 100\n",
    "# store the loss and the % correct at each epoch\n",
    "losses_train = np.zeros((n_epoch))\n",
    "errors_train = np.zeros((n_epoch))\n",
    "losses_val = np.zeros((n_epoch))\n",
    "errors_val = np.zeros((n_epoch))\n",
    "\n",
    "for epoch in range(n_epoch):\n",
    "  # loop over batches\n",
    "  for i, data in enumerate(data_loader):\n",
    "    # retrieve inputs and labels for this batch\n",
    "    x_batch, y_batch = data\n",
    "    # zero the parameter gradients\n",
    "    optimizer.zero_grad()\n",
    "    # forward pass -- calculate model output\n",
    "    pred = model(x_batch[:,None,:])\n",
    "    # compute the loss\n",
    "    loss = loss_function(pred, y_batch)\n",
    "    # backward pass\n",
    "    loss.backward()\n",
    "    # SGD update\n",
    "    optimizer.step()\n",
    "\n",
    "  # Run whole dataset to get statistics -- normally wouldn't do this\n",
    "  pred_train = model(x_train[:,None,:])\n",
    "  pred_val = model(x_val[:,None,:])\n",
    "  _, predicted_train_class = torch.max(pred_train.data, 1)\n",
    "  _, predicted_val_class = torch.max(pred_val.data, 1)\n",
    "  errors_train[epoch] = 100 - 100 * (predicted_train_class == y_train).float().sum() / len(y_train)\n",
    "  errors_val[epoch]= 100 - 100 * (predicted_val_class == y_val).float().sum() / len(y_val)\n",
    "  losses_train[epoch] = loss_function(pred_train, y_train).item()\n",
    "  losses_val[epoch]= loss_function(pred_val, y_val).item()\n",
    "  print(f'Epoch {epoch:5d}, train loss {losses_train[epoch]:.6f}, train error {errors_train[epoch]:3.2f},  val loss {losses_val[epoch]:.6f}, percent error {errors_val[epoch]:3.2f}')\n",
    "\n",
    "  # tell scheduler to consider updating learning rate\n",
    "  scheduler.step()\n",
    "\n",
    "# Plot the results\n",
    "fig, ax = plt.subplots()\n",
    "ax.plot(errors_train,'r-',label='train')\n",
    "ax.plot(errors_val,'b-',label='validation')\n",
    "ax.set_ylim(0,100); ax.set_xlim(0,n_epoch)\n",
    "ax.set_xlabel('Epoch'); ax.set_ylabel('Error')\n",
    "ax.set_title('Part I: Validation Result %3.2f'%(errors_val[-1]))\n",
    "ax.legend()\n",
    "plt.show()"
   ]
  }
 ],
 "metadata": {
  "colab": {
   "authorship_tag": "ABX9TyNb46PJB/CC1pcHGfjpUUZg",
   "include_colab_link": true,
   "provenance": []
  },
  "kernelspec": {
   "display_name": "Python 3",
   "name": "python3"
  },
  "language_info": {
   "name": "python"
  }
 },
 "nbformat": 4,
 "nbformat_minor": 0
}
