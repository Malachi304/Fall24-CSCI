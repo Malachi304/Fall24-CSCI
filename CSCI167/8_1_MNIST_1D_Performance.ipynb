{
  "cells": [
    {
      "cell_type": "markdown",
      "metadata": {
        "colab_type": "text",
        "id": "view-in-github"
      },
      "source": [
        "<a href=\"https://colab.research.google.com/github/udlbook/udlbook/blob/main/Notebooks/Chap08/8_1_MNIST_1D_Performance.ipynb\" target=\"_parent\"><img src=\"https://colab.research.google.com/assets/colab-badge.svg\" alt=\"Open In Colab\"/></a>"
      ]
    },
    {
      "cell_type": "markdown",
      "metadata": {
        "id": "L6chybAVFJW2"
      },
      "source": [
        "# **Notebook 8.1: MNIST_1D_Performance**\n",
        "\n",
        "This notebook runs a simple neural network on the MNIST1D dataset as in figure 8.2a. It uses code from https://github.com/greydanus/mnist1d to generate the data.\n",
        "\n",
        "Work through the cells below, running each cell in turn. In various places you will see the words \"TO DO\". Follow the instructions at these places and make predictions about what is going to happen or write code to complete the functions.\n",
        "\n",
        "Contact me at udlbookmail@gmail.com if you find any mistakes or have any suggestions."
      ]
    },
    {
      "cell_type": "code",
      "execution_count": 2,
      "metadata": {
        "id": "ifVjS4cTOqKz"
      },
      "outputs": [
        {
          "name": "stdout",
          "output_type": "stream",
          "text": [
            "Collecting git+https://github.com/greydanus/mnist1d\n",
            "  Cloning https://github.com/greydanus/mnist1d to c:\\users\\mpeel\\appdata\\local\\temp\\pip-req-build-sorsqf56\n",
            "  Resolved https://github.com/greydanus/mnist1d to commit 68cb6b2d1d3a956cc2e9035e5a9860b66e33d642\n",
            "  Installing build dependencies: started\n",
            "  Installing build dependencies: finished with status 'done'\n",
            "  Getting requirements to build wheel: started\n",
            "  Getting requirements to build wheel: finished with status 'done'\n",
            "  Preparing metadata (pyproject.toml): started\n",
            "  Preparing metadata (pyproject.toml): finished with status 'done'\n",
            "Requirement already satisfied: requests in c:\\python312\\lib\\site-packages (from mnist1d==0.0.2.post15) (2.31.0)\n",
            "Requirement already satisfied: numpy in c:\\python312\\lib\\site-packages (from mnist1d==0.0.2.post15) (1.26.3)\n",
            "Requirement already satisfied: matplotlib in c:\\users\\mpeel\\appdata\\roaming\\python\\python312\\site-packages (from mnist1d==0.0.2.post15) (3.8.2)\n",
            "Requirement already satisfied: scipy in c:\\users\\mpeel\\appdata\\roaming\\python\\python312\\site-packages (from mnist1d==0.0.2.post15) (1.13.0)\n",
            "Requirement already satisfied: contourpy>=1.0.1 in c:\\users\\mpeel\\appdata\\roaming\\python\\python312\\site-packages (from matplotlib->mnist1d==0.0.2.post15) (1.2.0)\n",
            "Requirement already satisfied: cycler>=0.10 in c:\\users\\mpeel\\appdata\\roaming\\python\\python312\\site-packages (from matplotlib->mnist1d==0.0.2.post15) (0.12.1)\n",
            "Requirement already satisfied: fonttools>=4.22.0 in c:\\python312\\lib\\site-packages (from matplotlib->mnist1d==0.0.2.post15) (4.47.2)\n",
            "Requirement already satisfied: kiwisolver>=1.3.1 in c:\\python312\\lib\\site-packages (from matplotlib->mnist1d==0.0.2.post15) (1.4.5)\n",
            "Requirement already satisfied: packaging>=20.0 in c:\\python312\\lib\\site-packages (from matplotlib->mnist1d==0.0.2.post15) (23.2)\n",
            "Requirement already satisfied: pillow>=8 in c:\\python312\\lib\\site-packages (from matplotlib->mnist1d==0.0.2.post15) (10.2.0)\n",
            "Requirement already satisfied: pyparsing>=2.3.1 in c:\\python312\\lib\\site-packages (from matplotlib->mnist1d==0.0.2.post15) (3.1.1)\n",
            "Requirement already satisfied: python-dateutil>=2.7 in c:\\users\\mpeel\\appdata\\roaming\\python\\python312\\site-packages (from matplotlib->mnist1d==0.0.2.post15) (2.8.2)\n",
            "Requirement already satisfied: charset-normalizer<4,>=2 in c:\\python312\\lib\\site-packages (from requests->mnist1d==0.0.2.post15) (3.3.2)\n",
            "Requirement already satisfied: idna<4,>=2.5 in c:\\python312\\lib\\site-packages (from requests->mnist1d==0.0.2.post15) (3.6)\n",
            "Requirement already satisfied: urllib3<3,>=1.21.1 in c:\\python312\\lib\\site-packages (from requests->mnist1d==0.0.2.post15) (2.2.0)\n",
            "Requirement already satisfied: certifi>=2017.4.17 in c:\\python312\\lib\\site-packages (from requests->mnist1d==0.0.2.post15) (2024.2.2)\n",
            "Requirement already satisfied: six>=1.5 in c:\\python312\\lib\\site-packages (from python-dateutil>=2.7->matplotlib->mnist1d==0.0.2.post15) (1.16.0)\n",
            "Building wheels for collected packages: mnist1d\n",
            "  Building wheel for mnist1d (pyproject.toml): started\n",
            "  Building wheel for mnist1d (pyproject.toml): finished with status 'done'\n",
            "  Created wheel for mnist1d: filename=mnist1d-0.0.2.post15-py3-none-any.whl size=14653 sha256=ad90566d125a01c7cc54f43625dbd7de40010edeeefac1e9755c022ee2880e88\n",
            "  Stored in directory: C:\\Users\\mpeel\\AppData\\Local\\Temp\\pip-ephem-wheel-cache-gwj7_6lz\\wheels\\18\\40\\b6\\29381fee9b4c80fdbc304d52bb065a7286bbcca5ca2b8737c0\n",
            "Successfully built mnist1d\n",
            "Installing collected packages: mnist1d\n",
            "Successfully installed mnist1d-0.0.2.post15\n",
            "Note: you may need to restart the kernel to use updated packages.\n"
          ]
        },
        {
          "name": "stderr",
          "output_type": "stream",
          "text": [
            "WARNING: Ignoring invalid distribution ~ (c:\\Python312\\Lib\\site-packages)\n",
            "WARNING: Ignoring invalid distribution ~-p (c:\\Python312\\Lib\\site-packages)\n",
            "WARNING: Ignoring invalid distribution ~ip (c:\\Python312\\Lib\\site-packages)\n",
            "WARNING: Ignoring invalid distribution ~~p (c:\\Python312\\Lib\\site-packages)\n",
            "  Running command git clone --filter=blob:none --quiet https://github.com/greydanus/mnist1d 'C:\\Users\\mpeel\\AppData\\Local\\Temp\\pip-req-build-sorsqf56'\n",
            "WARNING: Ignoring invalid distribution ~ (c:\\Python312\\Lib\\site-packages)\n",
            "WARNING: Ignoring invalid distribution ~-p (c:\\Python312\\Lib\\site-packages)\n",
            "WARNING: Ignoring invalid distribution ~ip (c:\\Python312\\Lib\\site-packages)\n",
            "WARNING: Ignoring invalid distribution ~~p (c:\\Python312\\Lib\\site-packages)\n",
            "WARNING: Ignoring invalid distribution ~ (c:\\Python312\\Lib\\site-packages)\n",
            "WARNING: Ignoring invalid distribution ~-p (c:\\Python312\\Lib\\site-packages)\n",
            "WARNING: Ignoring invalid distribution ~ip (c:\\Python312\\Lib\\site-packages)\n",
            "WARNING: Ignoring invalid distribution ~~p (c:\\Python312\\Lib\\site-packages)\n"
          ]
        }
      ],
      "source": [
        "# Run this if you're in a Colab to install MNIST 1D repository\n",
        "%pip install git+https://github.com/greydanus/mnist1d"
      ]
    },
    {
      "cell_type": "code",
      "execution_count": 4,
      "metadata": {
        "id": "qyE7G1StPIqO"
      },
      "outputs": [],
      "source": [
        "import torch, torch.nn as nn\n",
        "from torch.utils.data import TensorDataset, DataLoader\n",
        "from torch.optim.lr_scheduler import StepLR\n",
        "import numpy as np\n",
        "import matplotlib.pyplot as plt\n",
        "import mnist1d"
      ]
    },
    {
      "cell_type": "markdown",
      "metadata": {
        "id": "F7LNq72SP6jO"
      },
      "source": [
        "Let's generate a training and test dataset using the MNIST1D code.  The dataset gets saved as a .pkl file so it doesn't have to be regenerated each time."
      ]
    },
    {
      "cell_type": "code",
      "execution_count": 5,
      "metadata": {
        "id": "YLxf7dJfPaqw"
      },
      "outputs": [
        {
          "name": "stdout",
          "output_type": "stream",
          "text": [
            "Did or could not load data from ./mnist1d_data.pkl. Rebuilding dataset...\n",
            "Examples in training set: 4000\n",
            "Examples in test set: 1000\n",
            "Length of each example: 40\n"
          ]
        }
      ],
      "source": [
        "args = mnist1d.data.get_dataset_args()\n",
        "data = mnist1d.data.get_dataset(args, path='./mnist1d_data.pkl', download=False, regenerate=False)\n",
        "\n",
        "# The training and test input and outputs are in\n",
        "# data['x'], data['y'], data['x_test'], and data['y_test']\n",
        "print(\"Examples in training set: {}\".format(len(data['y'])))\n",
        "print(\"Examples in test set: {}\".format(len(data['y_test'])))\n",
        "print(\"Length of each example: {}\".format(data['x'].shape[-1]))"
      ]
    },
    {
      "cell_type": "code",
      "execution_count": 56,
      "metadata": {
        "id": "FxaB5vc0uevl"
      },
      "outputs": [
        {
          "name": "stdout",
          "output_type": "stream",
          "text": [
            "Initializing layer\n",
            "Initializing layer\n",
            "Initializing layer\n",
            "Initializing layer\n",
            "Initializing layer\n",
            "Initializing layer\n"
          ]
        },
        {
          "data": {
            "text/plain": [
              "Sequential(\n",
              "  (0): Linear(in_features=40, out_features=100, bias=True)\n",
              "  (1): ReLU()\n",
              "  (2): Linear(in_features=100, out_features=100, bias=True)\n",
              "  (3): ReLU()\n",
              "  (4): Linear(in_features=100, out_features=10, bias=True)\n",
              ")"
            ]
          },
          "execution_count": 56,
          "metadata": {},
          "output_type": "execute_result"
        }
      ],
      "source": [
        "D_i = 40    # Input dimensions\n",
        "D_k = 100  # Hidden dimensions\n",
        "D_o = 10    # Output dimensions\n",
        "# TO DO:\n",
        "# Define a model with two hidden layers of size 100\n",
        "# And ReLU activations between them\n",
        "# Replace this line (see Figure 7.8 of book for help):\n",
        "model = torch.nn.Sequential(\n",
        "  torch.nn.Linear(D_i, D_k),\n",
        "  nn.ReLU(),\n",
        "  torch.nn.Linear(D_k, D_k),\n",
        "  nn.ReLU(),\n",
        "  torch.nn.Linear(D_k, D_o),\n",
        ")\n",
        "\n",
        "def weights_init(layer_in):\n",
        "  # TO DO:\n",
        "  # Initialize the parameters with He initialization\n",
        "  # Replace this line (see figure 7.8 of book for help)\n",
        "\n",
        "  if isinstance(layer_in, nn.Linear):\n",
        "    nn.init.kaiming_normal_(layer_in.weight)\n",
        "    layer_in.bias.data.fill_(0.0)\n",
        "  print(\"Initializing layer\")\n",
        "\n",
        "\n",
        "# Call the function you just defined\n",
        "model.apply(weights_init)\n"
      ]
    },
    {
      "cell_type": "code",
      "execution_count": 60,
      "metadata": {
        "id": "_rX6N3VyyQTY"
      },
      "outputs": [
        {
          "name": "stdout",
          "output_type": "stream",
          "text": [
            "Initializing layer\n",
            "Initializing layer\n",
            "Initializing layer\n",
            "Initializing layer\n",
            "Initializing layer\n",
            "Initializing layer\n",
            "Epoch     0, train loss 1.532362, train error 59.62,  test loss 1.617111, test error 63.50\n",
            "Epoch     1, train loss 1.309381, train error 48.45,  test loss 1.452528, test error 57.00\n",
            "Epoch     2, train loss 1.105855, train error 39.88,  test loss 1.321005, test error 53.90\n",
            "Epoch     3, train loss 0.999368, train error 36.53,  test loss 1.253820, test error 49.60\n",
            "Epoch     4, train loss 0.897454, train error 32.45,  test loss 1.213991, test error 47.30\n",
            "Epoch     5, train loss 0.825015, train error 29.05,  test loss 1.222040, test error 48.20\n",
            "Epoch     6, train loss 0.715747, train error 24.28,  test loss 1.124459, test error 43.00\n",
            "Epoch     7, train loss 0.644595, train error 21.72,  test loss 1.082554, test error 43.40\n",
            "Epoch     8, train loss 0.628610, train error 22.10,  test loss 1.117150, test error 42.10\n",
            "Epoch     9, train loss 0.542238, train error 18.07,  test loss 1.132635, test error 41.40\n",
            "Epoch    10, train loss 0.428975, train error 12.78,  test loss 1.045832, test error 39.10\n",
            "Epoch    11, train loss 0.397998, train error 11.97,  test loss 1.076701, test error 39.50\n",
            "Epoch    12, train loss 0.360262, train error 10.03,  test loss 1.049984, test error 38.00\n",
            "Epoch    13, train loss 0.324313, train error 8.65,  test loss 1.056681, test error 38.90\n",
            "Epoch    14, train loss 0.310034, train error 8.05,  test loss 1.107380, test error 38.70\n",
            "Epoch    15, train loss 0.276397, train error 7.03,  test loss 1.111893, test error 39.70\n",
            "Epoch    16, train loss 0.264564, train error 7.03,  test loss 1.134523, test error 39.80\n",
            "Epoch    17, train loss 0.244522, train error 6.10,  test loss 1.175586, test error 40.10\n",
            "Epoch    18, train loss 0.220663, train error 5.05,  test loss 1.145127, test error 38.60\n",
            "Epoch    19, train loss 0.197519, train error 3.65,  test loss 1.194507, test error 39.80\n",
            "Epoch    20, train loss 0.164744, train error 2.07,  test loss 1.152859, test error 38.90\n",
            "Epoch    21, train loss 0.156154, train error 1.88,  test loss 1.161219, test error 38.90\n",
            "Epoch    22, train loss 0.147010, train error 1.65,  test loss 1.185798, test error 39.20\n",
            "Epoch    23, train loss 0.143302, train error 1.65,  test loss 1.199261, test error 39.90\n",
            "Epoch    24, train loss 0.135698, train error 1.60,  test loss 1.201310, test error 37.80\n",
            "Epoch    25, train loss 0.125970, train error 1.07,  test loss 1.214504, test error 38.90\n",
            "Epoch    26, train loss 0.120105, train error 0.90,  test loss 1.217132, test error 39.30\n",
            "Epoch    27, train loss 0.115326, train error 1.03,  test loss 1.240370, test error 38.60\n",
            "Epoch    28, train loss 0.109922, train error 0.78,  test loss 1.250325, test error 39.70\n",
            "Epoch    29, train loss 0.104131, train error 0.60,  test loss 1.261366, test error 39.40\n",
            "Epoch    30, train loss 0.098816, train error 0.45,  test loss 1.259124, test error 39.60\n",
            "Epoch    31, train loss 0.097676, train error 0.40,  test loss 1.277284, test error 39.20\n",
            "Epoch    32, train loss 0.094242, train error 0.43,  test loss 1.274848, test error 39.30\n",
            "Epoch    33, train loss 0.091513, train error 0.30,  test loss 1.277777, test error 39.30\n",
            "Epoch    34, train loss 0.089783, train error 0.22,  test loss 1.282854, test error 39.50\n",
            "Epoch    35, train loss 0.087321, train error 0.25,  test loss 1.293004, test error 39.20\n",
            "Epoch    36, train loss 0.085220, train error 0.22,  test loss 1.295276, test error 39.10\n",
            "Epoch    37, train loss 0.083254, train error 0.22,  test loss 1.301102, test error 38.70\n",
            "Epoch    38, train loss 0.082586, train error 0.25,  test loss 1.304077, test error 39.60\n",
            "Epoch    39, train loss 0.079989, train error 0.20,  test loss 1.309888, test error 39.20\n",
            "Epoch    40, train loss 0.078397, train error 0.15,  test loss 1.314805, test error 38.90\n",
            "Epoch    41, train loss 0.077658, train error 0.15,  test loss 1.318080, test error 39.10\n",
            "Epoch    42, train loss 0.076760, train error 0.12,  test loss 1.323214, test error 39.10\n",
            "Epoch    43, train loss 0.075970, train error 0.10,  test loss 1.325838, test error 39.30\n",
            "Epoch    44, train loss 0.075095, train error 0.10,  test loss 1.328892, test error 38.90\n",
            "Epoch    45, train loss 0.074291, train error 0.10,  test loss 1.329562, test error 38.90\n",
            "Epoch    46, train loss 0.073401, train error 0.10,  test loss 1.333283, test error 39.00\n",
            "Epoch    47, train loss 0.072762, train error 0.07,  test loss 1.335207, test error 39.20\n",
            "Epoch    48, train loss 0.071966, train error 0.07,  test loss 1.341204, test error 39.10\n",
            "Epoch    49, train loss 0.071223, train error 0.07,  test loss 1.341514, test error 39.00\n"
          ]
        }
      ],
      "source": [
        "# choose cross entropy loss function (equation 5.24)\n",
        "loss_function = torch.nn.CrossEntropyLoss()\n",
        "# construct SGD optimizer and initialize learning rate and momentum\n",
        "optimizer = torch.optim.SGD(model.parameters(), lr = 0.05, momentum=0.9)\n",
        "# object that decreases learning rate by half every 10 epochs\n",
        "scheduler = StepLR(optimizer, step_size=10, gamma=0.5)\n",
        "x_train = torch.tensor(data['x'].astype('float32'))\n",
        "y_train = torch.tensor(data['y'].transpose().astype('int64'))\n",
        "x_test= torch.tensor(data['x_test'].astype('float32'))\n",
        "y_test = torch.tensor(data['y_test'].astype('int64'))\n",
        "\n",
        "# load the data into a class that creates the batches\n",
        "data_loader = DataLoader(TensorDataset(x_train,y_train), batch_size=100, shuffle=True, worker_init_fn=np.random.seed(1))\n",
        "\n",
        "# Initialize model weights\n",
        "model.apply(weights_init)\n",
        "\n",
        "# loop over the dataset n_epoch times\n",
        "n_epoch = 50\n",
        "# store the loss and the % correct at each epoch\n",
        "losses_train = np.zeros((n_epoch))\n",
        "errors_train = np.zeros((n_epoch))\n",
        "losses_test = np.zeros((n_epoch))\n",
        "errors_test = np.zeros((n_epoch))\n",
        "\n",
        "for epoch in range(n_epoch):\n",
        "  # loop over batches\n",
        "  for i, batch in enumerate(data_loader):\n",
        "    # retrieve inputs and labels for this batch\n",
        "    x_batch, y_batch = batch\n",
        "    # zero the parameter gradients\n",
        "    optimizer.zero_grad()\n",
        "    # forward pass -- calculate model output\n",
        "    pred = model(x_batch)\n",
        "    # compute the loss\n",
        "    loss = loss_function(pred, y_batch)\n",
        "    # backward pass\n",
        "    loss.backward()\n",
        "    # SGD update\n",
        "    optimizer.step()\n",
        "\n",
        "  # Run whole dataset to get statistics -- normally wouldn't do this\n",
        "  pred_train = model(x_train)\n",
        "  pred_test = model(x_test)\n",
        "  _, predicted_train_class = torch.max(pred_train.data, 1)\n",
        "  _, predicted_test_class = torch.max(pred_test.data, 1)\n",
        "  errors_train[epoch] = 100 - 100 * (predicted_train_class == y_train).float().sum() / len(y_train)\n",
        "  errors_test[epoch]= 100 - 100 * (predicted_test_class == y_test).float().sum() / len(y_test)\n",
        "  losses_train[epoch] = loss_function(pred_train, y_train).item()\n",
        "  losses_test[epoch]= loss_function(pred_test, y_test).item()\n",
        "  print(f'Epoch {epoch:5d}, train loss {losses_train[epoch]:.6f}, train error {errors_train[epoch]:3.2f},  test loss {losses_test[epoch]:.6f}, test error {errors_test[epoch]:3.2f}')\n",
        "\n",
        "  # tell scheduler to consider updating learning rate\n",
        "  scheduler.step()"
      ]
    },
    {
      "cell_type": "code",
      "execution_count": 13,
      "metadata": {
        "id": "yI-l6kA_EH9G"
      },
      "outputs": [
        {
          "data": {
            "image/png": "[encoded data removed]",
            "text/plain": [
              "<Figure size 640x480 with 1 Axes>"
            ]
          },
          "metadata": {},
          "output_type": "display_data"
        },
        {
          "data": {
            "image/png": "[encoded data removed]",
            "text/plain": [
              "<Figure size 640x480 with 1 Axes>"
            ]
          },
          "metadata": {},
          "output_type": "display_data"
        }
      ],
      "source": [
        "# Plot the results\n",
        "fig, ax = plt.subplots()\n",
        "ax.plot(errors_train,'r-',label='train')\n",
        "ax.plot(errors_test,'b-',label='test')\n",
        "ax.set_ylim(0,100); ax.set_xlim(0,n_epoch)\n",
        "ax.set_xlabel('Epoch'); ax.set_ylabel('Error')\n",
        "ax.set_title('TrainError %3.2f, Test Error %3.2f'%(errors_train[-1],errors_test[-1]))\n",
        "ax.legend()\n",
        "plt.show()\n",
        "\n",
        "# Plot the results\n",
        "fig, ax = plt.subplots()\n",
        "ax.plot(losses_train,'r-',label='train')\n",
        "ax.plot(losses_test,'b-',label='test')\n",
        "ax.set_xlim(0,n_epoch)\n",
        "ax.set_xlabel('Epoch'); ax.set_ylabel('Loss')\n",
        "ax.set_title('Train loss %3.2f, Test loss %3.2f'%(losses_train[-1],losses_test[-1]))\n",
        "ax.legend()\n",
        "plt.show()"
      ]
    },
    {
      "cell_type": "markdown",
      "metadata": {},
      "source": [
        "\n",
        "\n",
        "My best results came from a combination of added epochs, lower learning rate, and higher gamma, which yeilded a test case loss of 1.2, and test error of 42. \n",
        "\n",
        "It's also worth noting that simply adding more hidden layers was not a one-all solution to getting better results. This is probably due to the model learning to be to complex for the dataset. But, when I would instead slightly increase the amount of hidden neurons, the model perfromed well. When I would increase hidden units by too much, I noticed that the model was performing very well on training data, but average on testing data, implying that the model was relying too much on training data and overfitting. This is the same issue when adding extra hidden layers; the model becomes too complex. I actually noticed the origional parameters given were causing the model to overfit aswell. I found that part of the reason for this was becasue the learning rate was set to 5%, when I'm assuming the author meant to set it to %50. \n",
        "\n",
        "Playing with the parameters, along with different model structures, and even dropout layers, I found that this is not the most efficent method for optamizing hhyperparameters, and can't be used as a good estimate to test true performance. \n",
        "\n",
        "\n"
      ]
    },
    {
      "cell_type": "markdown",
      "metadata": {
        "id": "q-yT6re6GZS4"
      },
      "source": [
        "**TO DO**\n",
        "\n",
        "Play with the model -- try changing the number of layers, hidden units, learning rate, batch size, momentum or anything else you like.  See if you can improve the test results.\n",
        "\n",
        "Is it a good idea to optimize the hyperparameters in this way?  Will the final result be a good estimate of the true test performance?"
      ]
    }
  ],
  "metadata": {
    "accelerator": "GPU",
    "colab": {
      "authorship_tag": "ABX9TyOuKMUcKfOIhIL2qTX9jJCy",
      "gpuType": "T4",
      "include_colab_link": true,
      "provenance": []
    },
    "kernelspec": {
      "display_name": "Python 3",
      "name": "python3"
    },
    "language_info": {
      "codemirror_mode": {
        "name": "ipython",
        "version": 3
      },
      "file_extension": ".py",
      "mimetype": "text/x-python",
      "name": "python",
      "nbconvert_exporter": "python",
      "pygments_lexer": "ipython3",
      "version": "3.12.5"
    }
  },
  "nbformat": 4,
  "nbformat_minor": 0
}
