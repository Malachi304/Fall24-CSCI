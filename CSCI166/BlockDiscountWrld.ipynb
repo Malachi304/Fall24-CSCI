{
 "cells": [
  {
   "cell_type": "code",
   "execution_count": 5,
   "metadata": {},
   "outputs": [],
   "source": [
    "import numpy as np"
   ]
  },
  {
   "cell_type": "code",
   "execution_count": 4,
   "metadata": {},
   "outputs": [],
   "source": [
    "# Create Colab Jupyter Notebook for our class example w/ Block Discount World:\n",
    "\n",
    "# 5 State = {a, b, c, d, e}\n",
    "# 3 Actions = {Left, Right, Exit}\n",
    "# Exit available only in a & e.\n",
    "# Exit from a yields reward of 10\n",
    "# Exit from e yields reward of 1\n",
    "\n",
    "# (1) Calculate Optimum Policy for cases: Transitions are deterministic, 𝛾=1, 𝛾=0.1\n",
    "\n",
    "# (2) Calculate the value of the sequence of rewards from each of the states under the optimum policy for both previous cases.\n",
    "\n",
    "# (2) For which 𝛾, are West and East equally good when in state d?\n",
    "\n",
    "# Actions(a) = exit\n",
    "# ACtions(b) = left / right\n"
   ]
  }
 ],
 "metadata": {
  "kernelspec": {
   "display_name": "Python 3",
   "language": "python",
   "name": "python3"
  },
  "language_info": {
   "codemirror_mode": {
    "name": "ipython",
    "version": 3
   },
   "file_extension": ".py",
   "mimetype": "text/x-python",
   "name": "python",
   "nbconvert_exporter": "python",
   "pygments_lexer": "ipython3",
   "version": "3.12.5"
  }
 },
 "nbformat": 4,
 "nbformat_minor": 2
}
