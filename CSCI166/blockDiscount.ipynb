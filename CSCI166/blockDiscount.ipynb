{
 "cells": [
  {
   "cell_type": "code",
   "execution_count": null,
   "metadata": {},
   "outputs": [],
   "source": [
    "# 5 State = {a, b, c, d, e}\n",
    "# 3 Actions = {Left, Right, Exit}\n",
    "# Exit available only in a & e.\n",
    "# Exit from a yields reward of 10\n",
    "# Exit from e yields reward of 1\n",
    "\n",
    "# (1) Calculate Optimum Policy for cases: Transitions are deterministic, 𝛾=1, 𝛾=0.1\n",
    "\n",
    "# (2) Calculate the value of the sequence of rewards from each of the states under the optimum policy for both previous cases.\n",
    "\n",
    "# (2) For which 𝛾, are West and East equally good when in state d?"
   ]
  },
  {
   "cell_type": "code",
   "execution_count": null,
   "metadata": {},
   "outputs": [],
   "source": [
    "# (1)\n",
    "\n",
    "# When y=1, future rewards are not dicounted ever. This means the agent values future and immediate rewards\n",
    "# No matter the start state, the reward will always be 10 in the end. \n",
    "\n",
    "# When y=0.1, future rewards are discounted. This mean that immediate rewards should be favored.\n",
    "# At state c, the best action is right to d, where the reward will be 1\n",
    "# At state d, the best action is to move to state e, becasue moving twoards a will discount the reward\n",
    "# At state e, the agent should exit, as moving to state a will discound the reward\n",
    "# The optimum policy is to move twoards e in most cases"
   ]
  },
  {
   "cell_type": "code",
   "execution_count": null,
   "metadata": {},
   "outputs": [],
   "source": [
    "# (2)\n",
    "\n",
    "# For y=1, the reward is always 1, no matter the action.\n",
    "\n",
    "# For y=0.1,\n",
    "# State a=10\n",
    "# State b = 0.1^3 * 1 = 0.001\n",
    "# State c = 0.1^2 * 1 - 0.01\n",
    "# State d = 0.1 * 1 = 0.1\n",
    "# State e = 1 "
   ]
  },
  {
   "cell_type": "code",
   "execution_count": null,
   "metadata": {},
   "outputs": [],
   "source": [
    "# (3)\n",
    "\n",
    "# Going left from d = 10\n",
    "# Going right from d = 1\n",
    "\n",
    "# 1/ 10 = 0.1, and sqt(0.1) = 0.31\n",
    "# So when y = 0.31"
   ]
  }
 ],
 "metadata": {
  "language_info": {
   "name": "python"
  }
 },
 "nbformat": 4,
 "nbformat_minor": 2
}
